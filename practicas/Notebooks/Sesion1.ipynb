{
 "cells": [
  {
   "cell_type": "markdown",
   "metadata": {
    "tags": []
   },
   "source": [
    "# <center> <span style=\"color:indigo\">Aplicaciones de Análisis Topológico de Datos</span> </center> \n",
    "\n",
    "##  <center> <span style=\"color:DarkBlue\">  Sesiòn 1: Introducción al lenguaje Python</span>  </center>\n",
    "\n",
    "<img src=\"images/fig1.jpg\" alt=\"Drawing\" style=\"width: 200px;\"/>\n",
    "\n",
    "\n",
    "##  Contenido\n",
    "1. <span style=\"color:DarkBlue\">Tipos de datos nativos</span>\n",
    "2. <span style=\"color:DarkBluek\"> Estructuras y ciclos</span>\n",
    "3. <span style=\"color:DarkGreen\"> Funciones </span>\n",
    "4. <span style=\"color:DarkBlue\"> Funcionabilidad Avanzada </span>\n",
    "5. <span style=\"color:indigo\"> Gráficas </span>\n",
    "\n",
    "\n",
    "## <span style=\"color:DarkBlue\"> 1. Tipos de datos nativos</span>\n",
    "\n",
    "\n",
    "* Entero  <span style=\"color:red\">int()</span>  \n",
    "       Memoria Dinámica\n",
    "* Flotante  <span style=\"color:red\">float()</span>  \n",
    "       Mínimo:   2.23e-308 \n",
    "       Máximo:   1.79e+308\n",
    "\n",
    "* Booleano  <span style=\"color:red\">bool()</span> \n",
    "* String  <span style=\"color:red\">str()</span> \n",
    "        Máximo: 64 Gb.\n",
    "* Lista  <span style=\"color:red\">list()</span> \n",
    "* Tupla  <span style=\"color:red\">tuple()</span> \n",
    "* Conjunto  <span style=\"color:red\">set()</span> \n",
    "* Diccionario <span style=\"color:red\">dict()</span> \n",
    "\n",
    "\n",
    "### 1.1 Tipado dinámico\n",
    "\n",
    "Las variables en python pueden almacenar diferentes tipos de datos. Ejemplo:\n",
    "\n"
   ]
  },
  {
   "cell_type": "code",
   "execution_count": 2,
   "metadata": {},
   "outputs": [
    {
     "name": "stdout",
     "output_type": "stream",
     "text": [
      "Tipo de variable:  <class 'int'> Valor almacenado:  1\n",
      "Tipo de variable:  <class 'float'> Valor almacenado:  1.2\n",
      "Tipo de variable:  <class 'bool'> Valor almacenado:  False\n",
      "Tipo de variable:  <class 'str'> Valor almacenado:  Hola mundo\n",
      "Tipo de variable:  <class 'list'> Valor almacenado:  [1, 2, 3, 4]\n",
      "Tipo de variable:  <class 'tuple'> Valor almacenado:  (1, 2, 3, 4)\n",
      "Tipo de variable:  <class 'set'> Valor almacenado:  {1, 2, 3, 4}\n",
      "Tipo de variable:  <class 'dict'> Valor almacenado:  {'nombre': 'Carlos'}\n"
     ]
    }
   ],
   "source": [
    "#Esto es un comentario \n",
    "import sys \n",
    "import math\n",
    "#dir(sys)\n",
    "\n",
    "#Declaramos un entero\n",
    "var = 1\n",
    "print(\"Tipo de variable: \", type(var), \"Valor almacenado: \", var)\n",
    "\n",
    "#Declaramos un flotante\n",
    "var = 1.2\n",
    "print(\"Tipo de variable: \", type(var), \"Valor almacenado: \", var)\n",
    "\n",
    "#Declaramos un booleano\n",
    "var = False\n",
    "print(\"Tipo de variable: \", type(var), \"Valor almacenado: \", var)\n",
    "\n",
    "#Declaramos una cadena de caracteres\n",
    "var = \"Hola mundo\"\n",
    "print(\"Tipo de variable: \", type(var), \"Valor almacenado: \", var)\n",
    "\n",
    "#Declaramos una lista\n",
    "var = [1,2,3,4]\n",
    "print(\"Tipo de variable: \", type(var), \"Valor almacenado: \", var)\n",
    "\n",
    "#Declaramos una tupla\n",
    "var = (1,2,3,4)\n",
    "print(\"Tipo de variable: \", type(var), \"Valor almacenado: \", var)\n",
    "\n",
    "#Declaramos un conjunto\n",
    "var = {1,2,3,4}\n",
    "print(\"Tipo de variable: \", type(var), \"Valor almacenado: \", var)\n",
    "\n",
    "#Declaramos una diccionario\n",
    "var = {'nombre' : 'Carlos'}\n",
    "\n",
    "print(\"Tipo de variable: \", type(var), \"Valor almacenado: \", var)"
   ]
  },
  {
   "cell_type": "code",
   "execution_count": 3,
   "metadata": {},
   "outputs": [
    {
     "data": {
      "text/plain": [
       "['__doc__',\n",
       " '__file__',\n",
       " '__loader__',\n",
       " '__name__',\n",
       " '__package__',\n",
       " '__spec__',\n",
       " 'acos',\n",
       " 'acosh',\n",
       " 'asin',\n",
       " 'asinh',\n",
       " 'atan',\n",
       " 'atan2',\n",
       " 'atanh',\n",
       " 'ceil',\n",
       " 'copysign',\n",
       " 'cos',\n",
       " 'cosh',\n",
       " 'degrees',\n",
       " 'e',\n",
       " 'erf',\n",
       " 'erfc',\n",
       " 'exp',\n",
       " 'expm1',\n",
       " 'fabs',\n",
       " 'factorial',\n",
       " 'floor',\n",
       " 'fmod',\n",
       " 'frexp',\n",
       " 'fsum',\n",
       " 'gamma',\n",
       " 'gcd',\n",
       " 'hypot',\n",
       " 'inf',\n",
       " 'isclose',\n",
       " 'isfinite',\n",
       " 'isinf',\n",
       " 'isnan',\n",
       " 'ldexp',\n",
       " 'lgamma',\n",
       " 'log',\n",
       " 'log10',\n",
       " 'log1p',\n",
       " 'log2',\n",
       " 'modf',\n",
       " 'nan',\n",
       " 'pi',\n",
       " 'pow',\n",
       " 'radians',\n",
       " 'remainder',\n",
       " 'sin',\n",
       " 'sinh',\n",
       " 'sqrt',\n",
       " 'tan',\n",
       " 'tanh',\n",
       " 'tau',\n",
       " 'trunc']"
      ]
     },
     "execution_count": 3,
     "metadata": {},
     "output_type": "execute_result"
    }
   ],
   "source": [
    "import math\n",
    "import sys\n",
    "dir(math)\n",
    "#dir(sys)\n",
    "#help(sys.exit)"
   ]
  },
  {
   "cell_type": "markdown",
   "metadata": {},
   "source": [
    "### 1.2 Estructura de programa Python\n",
    "\n",
    "<img src=\"images/estructura.jpg\" alt=\"Drawing\" style=\"width:250px;\"/>\n",
    "\n",
    "<img src=\"images/estructura2.jpg\" alt=\"Drawing\" style=\"width: 500px;\"/>\n",
    "    \n",
    "La ejecución de un programa   de <span style=\"color:indigo\">python</span> en una terminal se lleva a cabo con  el comando:   <span style=\"color:indigo\">**python3**</span>  <span style=\"color:red\"> **Mi_programa.py** </span> \n",
    "\n",
    "\n",
    "\n",
    "A continuación se muestra  **hola mundo**  siguiendo la estructura anterior.\n"
   ]
  },
  {
   "cell_type": "code",
   "execution_count": 11,
   "metadata": {},
   "outputs": [
    {
     "name": "stdout",
     "output_type": "stream",
     "text": [
      "\tHola Mundo\n",
      "Ruta de ejecución: /home/hfm/ml/bin/python\n",
      "Versión:\t   3.8.10 (default, Jun  2 2021, 10:49:15) \n",
      "[GCC 9.4.0]\n"
     ]
    }
   ],
   "source": [
    "#!/usr/bin/env python\n",
    "# -*- coding: utf-8 -*-\n",
    "\n",
    "import sys\n",
    "\n",
    "def HolaMundo():\n",
    "    print(\"\\tHola Mundo\")\n",
    "    print(\"Ruta de ejecución:\", sys.executable)\n",
    "    print(\"Versión:\\t  \",sys.version)\n",
    "    return \n",
    "\n",
    "HolaMundo()\n",
    "\n",
    "\n"
   ]
  },
  {
   "cell_type": "markdown",
   "metadata": {},
   "source": [
    "## 2. Funciones y ciclos\n",
    "\n",
    "### Indentación\n",
    "<span style=\"color:DarkBlue\">Indentación (sangría): </span>  Se refiere a los espacios  que hay al inicio de una línea de código y se utiliza para definir bloques de código  local dentro del programa. Para indentar el código pueden utilizarse tabuladores o espacios.\n",
    "\n",
    "\n",
    "<img src=\"images/indentacion1.jpg\" alt=\"Drawing\" style=\"width: 450px;\"/>\n",
    "\n",
    "\n",
    "### Estructura de  una  función:\n",
    "\n",
    "<img src=\"images/funcion1.jpg\" alt=\"Drawing\" style=\"width: 450px;\"/>\n",
    "\n",
    "### Condicion  if:\n",
    "\n",
    "<img src=\"images/controlif.jpg\" alt=\"Drawing\" style=\"width: 450px;\"/>\n",
    "\n",
    "### Ciclo for:\n",
    "\n",
    "<img src=\"images/ciclofor.jpg\" alt=\"Drawing\" style=\"width: 450px;\"/>\n",
    "\n",
    "### Range (rango):\n",
    "\n",
    "<img src=\"images/range.jpg\" alt=\"Drawing\" style=\"width: 550px;\"/>\n",
    "\n",
    "\n",
    "\n",
    "\n"
   ]
  },
  {
   "cell_type": "code",
   "execution_count": 10,
   "metadata": {},
   "outputs": [],
   "source": [
    "def SumaSimple(arg1,arg2):\n",
    "    suma = arg1+arg2\n",
    "    return suma\n",
    "\n",
    "def SumaABS(arg1,arg2):\n",
    "    if   arg1 < 0:\n",
    "        arg1 = arg1*-1\n",
    "    if   arg2 < 0:\n",
    "        arg2 = arg2*-1\n",
    "    suma= arg1+arg2\n",
    "    return suma\n",
    "\n",
    "def SumaGeometricaWhile(cota):\n",
    "    suma= float(1e-3)\n",
    "    contador= 1\n",
    "    while contador < cota+1:\n",
    "        #suma+=1.0/(2**contador) exponente\n",
    "        suma = suma + (1.0/(2**contador)) #** exponente\n",
    "        contador +=1\n",
    "    return  suma\n",
    "\n",
    "def SumaGeometricaFor(cota):\n",
    "    suma= float()\n",
    "    for i in range(1,cota+1):\n",
    "        #suma+=1.0/(2**i)\n",
    "        suma = suma + (1.0/(2**i))\n",
    "    return  suma"
   ]
  },
  {
   "cell_type": "code",
   "execution_count": 14,
   "metadata": {},
   "outputs": [
    {
     "name": "stdout",
     "output_type": "stream",
     "text": [
      "Suma Simple  ( -5 + 10.0 )  =  5.0\n",
      "Suma Absoluto  ( -5 + 10.0 )  =  15.0\n",
      "(FOR)   Suma geometrica (n= 20 ):  1.0000234375\n",
      "(WHILE) Suma geometrica (n= 20 ):  0.9990234375\n"
     ]
    }
   ],
   "source": [
    "sumando1 = -5   #Entero\n",
    "sumando2 = 10.0 #Flotante\n",
    "print (\"Suma Simple  (\",sumando1,\"+\",sumando2,\")  = \",SumaSimple(sumando1,sumando2))\n",
    "print (\"Suma Absoluto  (\",sumando1,\"+\",sumando2,\")  = \",SumaABS(sumando1,sumando2))\n",
    "\n",
    "cota = 20\n",
    "print (\"(FOR)   Suma geometrica (n=\",str(cota),\"): \", SumaGeometricaWhile(10))\n",
    "print (\"(WHILE) Suma geometrica (n=\",str(cota),\"): \", SumaGeometricaFor(10))"
   ]
  },
  {
   "cell_type": "markdown",
   "metadata": {},
   "source": [
    "## 3. Objetos Iterables\n",
    "\n",
    "<img src=\"images/listas1.jpg\" alt=\"Drawing\" style=\"width: 350px;\"/>\n",
    "\n",
    "\n",
    "### ¿Qué es una lista en Python?\n",
    "<span style=\"color:DarkBlue\">Lista: </span> Es una estructura de datos que funciona como contenedor de otros objetos y los mantiene ordenados.  **Ejemplos:**\n",
    "\n",
    "\n",
    "1. Inicializar  Lista\n",
    "2. Agregar elementos a la lista\n",
    "3. Eliminar elementos de la lista\n",
    "4. Ordenar elementos de una lista\n",
    "\n"
   ]
  },
  {
   "cell_type": "code",
   "execution_count": 5,
   "metadata": {},
   "outputs": [
    {
     "name": "stdout",
     "output_type": "stream",
     "text": [
      "Esta es una lista vacia: [] usando list()\n",
      "Esta es una lista vacia: [] usando []\n",
      "Esta es una lista de enteros: [1, 2, 3, 4, 5]\n",
      "Esta es una lista variada:    [1.0, 'hola', -5]\n"
     ]
    }
   ],
   "source": [
    "#Declaramos una lista con la siguiente instruccion\n",
    "#Utilizando los corchetes se puede crear una lista vacia o con elementos\n",
    "\n",
    "lista = list() #Esta  es una lista vacia\n",
    "print (\"Esta es una lista vacia:\",lista, \"usando list()\")\n",
    "\n",
    "lista = [] #Esta  es una lista vacia\n",
    "print (\"Esta es una lista vacia:\",lista, \"usando []\")\n",
    "\n",
    "lista = [1,2,3,4,5] #Esta  es una lista de enteros\n",
    "print (\"Esta es una lista de enteros:\",lista)\n",
    "\n",
    "\n",
    "lista = [1.0,\"hola\",-5] #Esta  es una lista de diferentes objetos\n",
    "print (\"Esta es una lista variada:   \",lista)\n",
    "\n"
   ]
  },
  {
   "cell_type": "markdown",
   "metadata": {},
   "source": [
    "#### Para  acceder  a los elementos de  una lista se utilizan  los corchetes y el indice de la posición del elemento.\n",
    "\n",
    "Nota: Hay que recordar  que los elementos de la lista tienen una posición  de izquierda  a derecha  (índices positivos). También pueden  usar indices de   derecha  a izquierda (indices negativos)."
   ]
  },
  {
   "cell_type": "code",
   "execution_count": 6,
   "metadata": {},
   "outputs": [
    {
     "name": "stdout",
     "output_type": "stream",
     "text": [
      "Primer elemento: 1\n",
      "Segundo elemento: 2\n",
      "\n",
      "Último elemento: 5\n",
      "Penúltimo elemento: 4\n"
     ]
    }
   ],
   "source": [
    "lista = [1,2,3,4,5]\n",
    "\n",
    "#imprimir al primer  elemento\n",
    "print (\"Primer elemento:\",lista[0])\n",
    "\n",
    "#imprimir al segundo  elemento\n",
    "print (\"Segundo elemento:\",lista[1])\n",
    "\n",
    "#imprimir el ultimo elemento  usando el indice negativo\n",
    "print (\"\\nÚltimo elemento:\", lista[-1])\n",
    "\n",
    "#imprimir el ultimo elemento  usando el indice negativo\n",
    "print (\"Penúltimo elemento:\", lista[-2])"
   ]
  },
  {
   "cell_type": "markdown",
   "metadata": {},
   "source": [
    "### Dentro de las listas,  se pueden guardar diferentes objetos, incluso listas dentro de las listas."
   ]
  },
  {
   "cell_type": "code",
   "execution_count": 9,
   "metadata": {},
   "outputs": [
    {
     "name": "stdout",
     "output_type": "stream",
     "text": [
      "\n",
      "Imprimir lista de listas:  [[1, 2, 3, 4, 5], ['a', 'b', 'c', 'd', 'e']]\n",
      "\n",
      "Primer elemento de lista: [1, 2, 3, 4, 5]\n",
      "\n",
      "Último elemento de lista: ['a', 'b', 'c', 'd', 'e']\n",
      "\n",
      "Primer elemento de la última lista: e\n"
     ]
    }
   ],
   "source": [
    "#Declarando una lista de listas\n",
    "lista =[[1,2,3,4,5],[\"a\",\"b\",\"c\",\"d\",\"e\"]]\n",
    "print  (\"\\nImprimir lista de listas: \",lista)\n",
    "\n",
    "#Imprimir primer elemento de lista\n",
    "print (\"\\nPrimer elemento de lista:\", lista[0])\n",
    "\n",
    "#Imprimir ultimo elemento de lista\n",
    "print (\"\\nÚltimo elemento de lista:\", lista[-1])\n",
    "\n",
    "print (\"\\nPrimer elemento de la última lista:\", lista[-1][0])\n"
   ]
  },
  {
   "cell_type": "markdown",
   "metadata": {},
   "source": [
    "### Se pueden utilizar  las listas anidas para representar matrices (rudimentariamente)."
   ]
  },
  {
   "cell_type": "code",
   "execution_count": 8,
   "metadata": {},
   "outputs": [
    {
     "name": "stdout",
     "output_type": "stream",
     "text": [
      "[[1, 0, 0], [0, 1, 0], [0, 0, 1]] \n",
      "\n",
      "[1, 0, 0]\n",
      "[0, 1, 0]\n",
      "[0, 0, 1]\n"
     ]
    }
   ],
   "source": [
    "lista = [[1,0,0],[0,1,0],[0,0,1]]\n",
    "print (lista,\"\\n\")\n",
    "print (lista[0])\n",
    "print (lista[1])\n",
    "print (lista[2])"
   ]
  },
  {
   "cell_type": "markdown",
   "metadata": {},
   "source": [
    "### Las  listas también pueden almacenar funciones"
   ]
  },
  {
   "cell_type": "code",
   "execution_count": 9,
   "metadata": {},
   "outputs": [
    {
     "name": "stdout",
     "output_type": "stream",
     "text": [
      "\n",
      "Accediendo a  elemento  0\n",
      "Resultado de la funcion:  0.9990234375\n",
      "\n",
      "Accediendo a  elemento  1\n",
      "Resultado de la funcion:  0.9999990463256836\n"
     ]
    }
   ],
   "source": [
    "lista_par  = [10, 20]\n",
    "lista_func = [SumaGeometricaFor,SumaGeometricaWhile]\n",
    "\n",
    "for  indice in range(2):\n",
    "    print(\"\\nAccediendo a  elemento \", indice)\n",
    "    #Usamos los parentesis como una funcion normal\n",
    "    # funcion(argumento)\n",
    "    resultado  = lista_func[indice](lista_par[indice])\n",
    "    print (\"Resultado de la funcion: \", resultado)"
   ]
  },
  {
   "cell_type": "markdown",
   "metadata": {},
   "source": [
    "###  Operaciones en listas\n",
    "\n",
    "* Agregar elementos a  una lista\n",
    "* Sacar el ultimo elemento de la lista\n",
    "* Sacar cualquier elemento con  su posición\n",
    "* Insertar elemento en una posición\n",
    "* Ordenar lista\n",
    "* Invertir lista"
   ]
  },
  {
   "cell_type": "code",
   "execution_count": 10,
   "metadata": {},
   "outputs": [
    {
     "name": "stdout",
     "output_type": "stream",
     "text": [
      "\n",
      "lista actual:    [0, 1, 2, 3, 4]\n",
      "\n",
      "lista agregada:  [0, 1, 2, 3, 4, 9]\n",
      "\n",
      "Lista sin  ultimo elemento:  [0, 1, 2, 3, 4]\n",
      "\n",
      "Sacar elemento posicion 2:  [0, 1, 3, 4]\n",
      "\n",
      "Insertar elemento posicion 2:  [0, 1, 9, 3, 4]\n",
      "\n",
      "Lista Ordenada :  [0, 1, 3, 4, 9]\n",
      "\n",
      "Lista Invertida :  [9, 4, 3, 1, 0]\n"
     ]
    }
   ],
   "source": [
    "#Declarar lista de enteros\n",
    "lista = [0,1,2,3,4]\n",
    "print(\"\\nlista actual:   \",lista)\n",
    "\n",
    "lista.append(9)\n",
    "print(\"\\nlista agregada: \",lista)\n",
    "\n",
    "#Sacar ultimo elemento de la lista\n",
    "lista.pop()\n",
    "print(\"\\nLista sin  ultimo elemento: \",lista)\n",
    "\n",
    "#Sacar  element de la posicion  2 de la lista\n",
    "lista.pop(2)\n",
    "print(\"\\nSacar elemento posicion 2: \",lista)\n",
    "\n",
    "#Insertar en la posicion  2 el  entero 9\n",
    "lista.insert(2,9)\n",
    "print(\"\\nInsertar elemento posicion 2: \",lista)\n",
    "\n",
    "#Ordenar lista\n",
    "lista.sort()\n",
    "print(\"\\nLista Ordenada : \",lista)\n",
    "\n",
    "#Ordenar lista\n",
    "lista.reverse()\n",
    "print(\"\\nLista Invertida : \",lista)\n"
   ]
  },
  {
   "cell_type": "markdown",
   "metadata": {},
   "source": [
    "### Operaciones con  listas\n",
    "\n",
    "* Concatenación\n",
    "* Concatenar N copias\n",
    "* Porción\n",
    "* Mínimo,Máximo, Núm. de elementos"
   ]
  },
  {
   "cell_type": "code",
   "execution_count": 11,
   "metadata": {},
   "outputs": [
    {
     "name": "stdout",
     "output_type": "stream",
     "text": [
      "\n",
      "Lista 1:  ['a', 'b', 'c', 'd']\n",
      "Lista 2:  [0, 1, 2, 3, 4]\n",
      "\n",
      "Listas concatenadas:\n",
      " ['a', 'b', 'c', 'd', 0, 1, 2, 3, 4]\n",
      "\n",
      "Lista concatenada N veces: [100, 20, 100, 20, 100, 20, 100, 20, 100, 20]\n"
     ]
    }
   ],
   "source": [
    "lista1 =[\"a\",\"b\",\"c\",\"d\"]\n",
    "lista2 =[ 0, 1, 2, 3, 4 ]\n",
    "\n",
    "print(\"\\nLista 1: \",lista1)\n",
    "print(\"Lista 2: \",lista2)\n",
    "\n",
    "lista3 = lista1 + lista2\n",
    "print (\"\\nListas concatenadas:\\n\",lista3)\n",
    "\n",
    "#concatener   n veces una lista\n",
    "lista = [100,20]*5\n",
    "print (\"\\nLista concatenada N veces:\",lista)\n",
    "\n"
   ]
  },
  {
   "cell_type": "code",
   "execution_count": 12,
   "metadata": {},
   "outputs": [
    {
     "name": "stdout",
     "output_type": "stream",
     "text": [
      "Todo lista[:]             =   [0, 1, 2, 3, 4, 5, 6, 7, 8, 9]\n",
      "\n",
      "Del [0 al 5) lista[0:5]   =   [0, 1, 2, 3, 4]\n",
      "\n",
      "Del [0 al 5) lista[:5]    =   [0, 1, 2, 3, 4]\n",
      "\n",
      "Del [5 al 7) lista[5:7]    =   [5, 6]\n",
      "\n",
      " Copiar lista a otra  lista2 = lista1[:] \n"
     ]
    }
   ],
   "source": [
    "#Porcion de una lista\n",
    "lista = [0,1,2,3,4,5,6,7,8,9]\n",
    "print (\"Todo lista[:]             =  \",lista[:])\n",
    "print (\"\\nDel [0 al 5) lista[0:5]   =  \",lista[0:5])\n",
    "print (\"\\nDel [0 al 5) lista[:5]    =  \",lista[:5])\n",
    "print (\"\\nDel [5 al 7) lista[5:7]    =  \",lista[5:7])\n",
    "print (\"\\n Copiar lista a otra  lista2 = lista1[:] \")"
   ]
  },
  {
   "cell_type": "markdown",
   "metadata": {},
   "source": [
    "### Tuplas y diccionarios\n",
    "\n",
    "<span style=\"color:DarkBlue\"> **Tuplas:** </span>: Son estructuras de datos similares a las listas. Almacenan objetos  pero con la diferencia que estas son  **inmutables**. Por  esta razón es común  que  se utilicen   para almacenar  argumentos de funciones.\n",
    "\n",
    "Una  lista puede transformarse en un tupla y viceversa\n",
    "\n",
    "\n",
    "<span style=\"color:Darkred\"> **Diccionario:** </span>Son  tipos de datos almacenan y mapean   a otros tipos de datos (similares a las tuplas y listas).  **Los diccionarios no se rigen por índices**, sino que,   los valores almacenados serán referidos mediante una llave.  (Internamente   funcionan como tablas hash).\n",
    "\n"
   ]
  },
  {
   "cell_type": "code",
   "execution_count": 13,
   "metadata": {},
   "outputs": [
    {
     "name": "stdout",
     "output_type": "stream",
     "text": [
      "Esto  es una tupla (1, 2, 3, 4)\n",
      "Máximo de la tupla: 4\n",
      "Mínimo de la tupla: 1\n",
      "Tupla a lista: [1, 2, 3, 4]\n"
     ]
    }
   ],
   "source": [
    "tupla1 =(1,2,3,4)\n",
    "print (\"Esto  es una tupla\", tupla1)\n",
    "print (\"Máximo de la tupla:\",max(tupla1) )\n",
    "print (\"Mínimo de la tupla:\",min(tupla1) )\n",
    "print (\"Tupla a lista:\", list(tupla1))"
   ]
  },
  {
   "cell_type": "markdown",
   "metadata": {},
   "source": [
    "### Ejercicio de tuplas\n",
    "\n",
    "Escribir una función que indique si dos fichas de dominó encajan o no. Las fichas son recibidas en dos tuplas, por ejemplo: (3,4) y (5,4)."
   ]
  },
  {
   "cell_type": "code",
   "execution_count": 14,
   "metadata": {},
   "outputs": [
    {
     "name": "stdout",
     "output_type": "stream",
     "text": [
      "\n",
      "*   .items()  Muestra  todos los elementos almacenados.\n",
      "\n",
      "dict_items([('k1', (101, 'Pedro López', 8.5)), ('k2', (102, 'Pedro Páramo', 6.0)), ('k3', (103, 'Juán Rulfo ', 9.0))])\n",
      "\n",
      "*   .keys()   Muestra solo las llaves del diccionario.\n",
      "\n",
      "*   .values()   Muestra solo los valores del diccionario.\n"
     ]
    },
    {
     "data": {
      "text/plain": [
       "dict_values([(101, 'Pedro López', 8.5), (102, 'Pedro Páramo', 6.0), (103, 'Juán Rulfo ', 9.0)])"
      ]
     },
     "execution_count": 14,
     "metadata": {},
     "output_type": "execute_result"
    }
   ],
   "source": [
    "#Diccionarios\n",
    "\n",
    "# Crear una variable con un diccionario vacio\n",
    "diccionario = dict()\n",
    "\n",
    "#llenar un diccionario\n",
    "#K representa a la llave\n",
    "diccionario[\"k1\"] = (101,\"Pedro López\",8.5)\n",
    "diccionario[\"k2\"] = (102, \"Pedro Páramo\", 6.0)\n",
    "diccionario[\"k3\"] = (103, \"Juán Rulfo \", 9.0)\n",
    "\n",
    "print  (\"\\n*   .items()  Muestra  todos los elementos almacenados.\\n\")\n",
    "\n",
    "print (diccionario.items()) #Muestra todos los elementos almacenados\n",
    "\n",
    "print  (\"\\n*   .keys()   Muestra solo las llaves del diccionario.\")\n",
    "diccionario.keys() #Muestra todos los elementos almacenados\n",
    "\n",
    "print  (\"\\n*   .values()   Muestra solo los valores del diccionario.\")\n",
    "diccionario.values() #Muestra todos los elementos almacenados\n"
   ]
  },
  {
   "cell_type": "code",
   "execution_count": 15,
   "metadata": {},
   "outputs": [
    {
     "data": {
      "text/plain": [
       "dict_keys(['k1', 'k2'])"
      ]
     },
     "execution_count": 15,
     "metadata": {},
     "output_type": "execute_result"
    }
   ],
   "source": [
    "diccionario.get(\"k3\")\n",
    "diccionario.pop(\"k3\")\n",
    "diccionario.keys()\n"
   ]
  },
  {
   "cell_type": "markdown",
   "metadata": {},
   "source": [
    "# Listas de comprensión\n",
    "\n",
    "<img src=\"images/comprension2.jpg\" alt=\"Drawing\" style=\"width: 550px;\"/>\n",
    "\n",
    "#### Una lista de comprensión  es  una forma  de construir listas  mediante otro objeto iterable. Esta forma de  generar listas es  legible y rápido."
   ]
  },
  {
   "cell_type": "code",
   "execution_count": 16,
   "metadata": {},
   "outputs": [
    {
     "name": "stdout",
     "output_type": "stream",
     "text": [
      "Llenamos una lista  con un ciclo for\n",
      "[0]\n",
      "[0, 1]\n",
      "[0, 1, 2]\n",
      "[0, 1, 2, 3]\n",
      "[0, 1, 2, 3, 4]\n",
      "[0, 1, 2, 3, 4, 5]\n",
      "[0, 1, 2, 3, 4, 5, 6]\n",
      "[0, 1, 2, 3, 4, 5, 6, 7]\n",
      "[0, 1, 2, 3, 4, 5, 6, 7, 8]\n",
      "[0, 1, 2, 3, 4, 5, 6, 7, 8, 9]\n"
     ]
    }
   ],
   "source": [
    "#construimos una lista vacia y  la llenamos de elementos.\n",
    "print(\"Llenamos una lista  con un ciclo for\")\n",
    "\n",
    "listaT =[]\n",
    "for index in range(10):\n",
    "    listaT.append(index)\n",
    "    print (listaT)"
   ]
  },
  {
   "cell_type": "code",
   "execution_count": 17,
   "metadata": {},
   "outputs": [
    {
     "name": "stdout",
     "output_type": "stream",
     "text": [
      "Creamos una lista de comprensión\n",
      "[0, 1, 2, 3, 4, 5, 6, 7, 8, 9]\n"
     ]
    }
   ],
   "source": [
    "#construimos una lista de comprension\n",
    "print(\"Creamos una lista de comprensión\")\n",
    "\n",
    "listaC =[index for index in range(10)]\n",
    "print (listaC)"
   ]
  },
  {
   "cell_type": "markdown",
   "metadata": {},
   "source": [
    "####  Ahora creamos una lista de listas con elementos  en cero"
   ]
  },
  {
   "cell_type": "code",
   "execution_count": 14,
   "metadata": {},
   "outputs": [
    {
     "name": "stdout",
     "output_type": "stream",
     "text": [
      "Creamos una lista de comprensión  con 10 elementos en cero\n",
      "\n",
      "[[0, 0, 0, 0, 0, 0, 0, 0, 0, 0], [0, 0, 0, 0, 0, 0, 0, 0, 0, 0], [0, 0, 0, 0, 0, 0, 0, 0, 0, 0], [0, 0, 0, 0, 0, 0, 0, 0, 0, 0], [0, 0, 0, 0, 0, 0, 0, 0, 0, 0], [0, 0, 0, 0, 0, 0, 0, 0, 0, 0], [0, 0, 0, 0, 0, 0, 0, 0, 0, 0], [0, 0, 0, 0, 0, 0, 0, 0, 0, 0], [0, 0, 0, 0, 0, 0, 0, 0, 0, 0], [0, 0, 0, 0, 0, 0, 0, 0, 0, 0]]\n"
     ]
    }
   ],
   "source": [
    "#construimos una lista de comprension\n",
    "print(\"Creamos una lista de comprensión  con 10 elementos en cero\\n\")\n",
    "\n",
    "listaC =[[0]*10 for index in range(10)]\n",
    "\n",
    "print (listaC)"
   ]
  },
  {
   "cell_type": "code",
   "execution_count": 16,
   "metadata": {},
   "outputs": [
    {
     "name": "stdout",
     "output_type": "stream",
     "text": [
      "Creamos una lista de comprensión  con  10  elementos  cuando  el indice es par\n",
      "\n",
      "[[0, 0, 0, 0, 0, 0, 0, 0, 0, 0], [2, 2, 2, 2, 2, 2, 2, 2, 2, 2], [4, 4, 4, 4, 4, 4, 4, 4, 4, 4], [6, 6, 6, 6, 6, 6, 6, 6, 6, 6], [8, 8, 8, 8, 8, 8, 8, 8, 8, 8]]\n"
     ]
    }
   ],
   "source": [
    "#construimos una lista de comprension\n",
    "print(\"Creamos una lista de comprensión  con  10  elementos  cuando  el indice es par\\n\")\n",
    "\n",
    "listaC =[[index]*10 for index in range(10) if not(index % 2)]\n",
    "\n",
    "print (listaC)"
   ]
  },
  {
   "cell_type": "code",
   "execution_count": 23,
   "metadata": {
    "scrolled": true
   },
   "outputs": [
    {
     "name": "stdout",
     "output_type": "stream",
     "text": [
      "Lista de  comprensión   de tuplas ( x, f(x) )\n",
      "\n",
      "[(0, 0.001), (2, 0.751), (4, 0.9385), (6, 0.985375), (8, 0.99709375), (10, 1.0000234375), (12, 1.000755859375), (14, 1.00093896484375)]\n"
     ]
    }
   ],
   "source": [
    "#Usamos una lista de comprensión para  almacenar los resultados de una fincion y su \n",
    "#argumento\n",
    "\n",
    "print (\"Lista de  comprensión   de tuplas ( x, f(x) )\\n\")\n",
    "listaC = [(index,SumaGeometricaWhile(index))  for index in range(0,16,2)]\n",
    "print (listaC)\n"
   ]
  },
  {
   "cell_type": "markdown",
   "metadata": {},
   "source": [
    "### Matplotlib\n",
    "\n",
    "<img src=\"images/matplot1.png\" alt=\"Drawing\" style=\"width: 550px;\"/>\n",
    "\n",
    "#### Matplotlib es una  biblioteca  de graficación  para listas o arreglos. Es compatible con NUMPY \n"
   ]
  },
  {
   "cell_type": "code",
   "execution_count": 25,
   "metadata": {},
   "outputs": [
    {
     "name": "stdout",
     "output_type": "stream",
     "text": [
      "lixtaX: [2, 3, 4, 5, 6, 7, 8, 9, 10, 11, 12, 13, 14, 15, 16, 17, 18, 19, 20] \n",
      " listaY: [0.75, 0.875, 0.9375, 0.96875, 0.984375, 0.9921875, 0.99609375, 0.998046875, 0.9990234375, 0.99951171875, 0.999755859375, 0.9998779296875, 0.99993896484375, 0.999969482421875, 0.9999847412109375, 0.9999923706054688, 0.9999961853027344, 0.9999980926513672, 0.9999990463256836]\n"
     ]
    }
   ],
   "source": [
    "listaX  = [i for i in range(2,21)]\n",
    "listaY  = [SumaGeometricaFor(data) for data in listaX] \n",
    "\n",
    "print (\"listaX:\",listaX,\"\\n\", \"listaY:\",listaY)"
   ]
  },
  {
   "cell_type": "code",
   "execution_count": 22,
   "metadata": {},
   "outputs": [
    {
     "data": {
      "image/png": "[encoded data removed]",
      "text/plain": [
       "<Figure size 432x288 with 1 Axes>"
      ]
     },
     "metadata": {
      "needs_background": "light"
     },
     "output_type": "display_data"
    }
   ],
   "source": [
    "import  matplotlib.pyplot as plt\n",
    "plt.plot(listaX, listaY)\n",
    "plt.show()\n"
   ]
  },
  {
   "cell_type": "code",
   "execution_count": 23,
   "metadata": {},
   "outputs": [
    {
     "data": {
      "image/png": "[encoded data removed]",
      "text/plain": [
       "<Figure size 432x288 with 1 Axes>"
      ]
     },
     "metadata": {
      "needs_background": "light"
     },
     "output_type": "display_data"
    }
   ],
   "source": [
    "plt.scatter(listaX, listaY)\n",
    "plt.show()"
   ]
  },
  {
   "cell_type": "code",
   "execution_count": 24,
   "metadata": {},
   "outputs": [
    {
     "data": {
      "image/png": "[encoded data removed]",
      "text/plain": [
       "<Figure size 432x288 with 1 Axes>"
      ]
     },
     "metadata": {
      "needs_background": "light"
     },
     "output_type": "display_data"
    }
   ],
   "source": [
    "plt.plot(listaX, listaY,color=\"blue\",alpha=0.2)\n",
    "plt.scatter(listaX, listaY,color=\"red\")\n",
    "plt.xlabel(\"Valor de N\")\n",
    "plt.ylabel(\"Suma Geométrica\")\n",
    "plt.grid(alpha=0.2)\n",
    "plt.show()\n",
    "#plt.savefig(nombrefigura.png)  #Podemos guardar una  figura\n"
   ]
  },
  {
   "cell_type": "code",
   "execution_count": 26,
   "metadata": {},
   "outputs": [],
   "source": [
    "#numero=Para sacar la raíz, MaxIt= numero de iteraciones,error=de la raiz cuadrada aproximada\n",
    "def RaizCuadrada(numero,MaxIt=100,error=0.001):\n",
    "    raiz = 0\n",
    "                \n",
    "    return raiz\n",
    "\n",
    "            \n",
    "RaizCuadrada(9)\n",
    "\n",
    "#Matplotlib\n",
    "listaX  = [i for i in range(1,51)]\n",
    "listaY  = [RaizCuadrada(9,MaxIt=data) for data in listaX] \n"
   ]
  },
  {
   "cell_type": "markdown",
   "metadata": {},
   "source": [
    "### Lectura de ficheros  .CSV"
   ]
  },
  {
   "cell_type": "code",
   "execution_count": 27,
   "metadata": {},
   "outputs": [
    {
     "name": "stdout",
     "output_type": "stream",
     "text": [
      "['1001', '2', '2000-01', '28', '31', '30', '30', '22', '29.5', '29', '29', '30', '30.5', '31.5', '30.5', '30.5', '30', '27', '27', '29', '28.5', '28.5', '27.5', '28', '30', '26.5', '29', '26.5', '27', '28', '31', '31', '31.5', '33']\n"
     ]
    }
   ],
   "source": [
    "#Metodo  sin biblioteca\n",
    "csvfile= open(\"31001_test.csv\",\"r\")\n",
    "for line in csvfile:\n",
    "    tmp = str(line)[1:-1]\n",
    "    tmp = tmp.split(\",\")\n",
    "    print (tmp)\n",
    "    break\n",
    "csvfile.close()"
   ]
  },
  {
   "cell_type": "code",
   "execution_count": 1,
   "metadata": {},
   "outputs": [
    {
     "ename": "FileNotFoundError",
     "evalue": "[Errno 2] No such file or directory: '31001_test.csv'",
     "output_type": "error",
     "traceback": [
      "\u001b[0;31m---------------------------------------------------------------------------\u001b[0m",
      "\u001b[0;31mFileNotFoundError\u001b[0m                         Traceback (most recent call last)",
      "\u001b[0;32m/tmp/ipykernel_47545/3237073794.py\u001b[0m in \u001b[0;36m<module>\u001b[0;34m\u001b[0m\n\u001b[1;32m      1\u001b[0m \u001b[0;32mimport\u001b[0m \u001b[0mcsv\u001b[0m\u001b[0;34m\u001b[0m\u001b[0;34m\u001b[0m\u001b[0m\n\u001b[0;32m----> 2\u001b[0;31m \u001b[0mcsvfile\u001b[0m\u001b[0;34m=\u001b[0m \u001b[0mopen\u001b[0m\u001b[0;34m(\u001b[0m\u001b[0;34m\"31001_test.csv\"\u001b[0m\u001b[0;34m,\u001b[0m\u001b[0;34m\"r\"\u001b[0m\u001b[0;34m)\u001b[0m\u001b[0;34m\u001b[0m\u001b[0;34m\u001b[0m\u001b[0m\n\u001b[0m\u001b[1;32m      3\u001b[0m \u001b[0mlector\u001b[0m  \u001b[0;34m=\u001b[0m \u001b[0mcsv\u001b[0m\u001b[0;34m.\u001b[0m\u001b[0mreader\u001b[0m\u001b[0;34m(\u001b[0m\u001b[0mcsvfile\u001b[0m\u001b[0;34m,\u001b[0m \u001b[0mdelimiter\u001b[0m\u001b[0;34m=\u001b[0m\u001b[0;34m','\u001b[0m\u001b[0;34m)\u001b[0m\u001b[0;34m\u001b[0m\u001b[0;34m\u001b[0m\u001b[0m\n\u001b[1;32m      4\u001b[0m \u001b[0mprint\u001b[0m \u001b[0;34m(\u001b[0m\u001b[0;34m\"Lectura del  fichero  con modulo csv\\n\"\u001b[0m\u001b[0;34m)\u001b[0m\u001b[0;34m\u001b[0m\u001b[0;34m\u001b[0m\u001b[0m\n\u001b[1;32m      5\u001b[0m \u001b[0;34m\u001b[0m\u001b[0m\n",
      "\u001b[0;31mFileNotFoundError\u001b[0m: [Errno 2] No such file or directory: '31001_test.csv'"
     ]
    }
   ],
   "source": [
    "import csv\n",
    "csvfile= open(\"31001_test.csv\",\"r\")\n",
    "lector  = csv.reader(csvfile, delimiter=',')\n",
    "print (\"Lectura del  fichero  con modulo csv\\n\")\n",
    "\n",
    "for linea in lector:\n",
    "    print(', '.join(linea))\n",
    "    break\n",
    "\n",
    "csvfile.close()"
   ]
  },
  {
   "cell_type": "markdown",
   "metadata": {},
   "source": [
    "##  <center> <span style=\"color:DarkBlue\">  Sesiòn 1: Introducción al lenguaje Python</span>  </center>\n",
    "1. Escriba una funcion **Sumatoria()** que tome una **Lista** de numeros y devuelva la suma acumulada.\n",
    "2. Escribe una funcion llamada **Elimina(Lista)** que tome una **Lista** y elimine el primero y el último elemento de la Lista y cree una nueva lista con los elementos que \"no fueron eliminados\".\n",
    "3. Escrie una funcion **Ordenada(Lista)** que tome una lista como parametro y devuelva **True** si la lista esta ordenanda en orden ascendente y devuelva **False** en caso contrario.\n",
    "4. Escriba una funcion que calcule la aproximacion a la raiz cudarada de un numero **n** Raiz(n)."
   ]
  }
 ],
 "metadata": {
  "kernelspec": {
   "display_name": "Python 3",
   "language": "python",
   "name": "python3"
  },
  "language_info": {
   "codemirror_mode": {
    "name": "ipython",
    "version": 3
   },
   "file_extension": ".py",
   "mimetype": "text/x-python",
   "name": "python",
   "nbconvert_exporter": "python",
   "pygments_lexer": "ipython3",
   "version": "3.7.12"
  }
 },
 "nbformat": 4,
 "nbformat_minor": 4
}
